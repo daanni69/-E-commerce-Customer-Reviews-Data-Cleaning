{
 "cells": [
  {
   "cell_type": "markdown",
   "id": "1d8da068",
   "metadata": {},
   "source": [
    "# E-commerce Customer Reviews Data Cleaning 🚀"
   ]
  },
  {
   "cell_type": "code",
   "execution_count": null,
   "id": "8244b29e",
   "metadata": {},
   "outputs": [],
   "source": [
    "\n",
    "import pandas as pd\n",
    "\n",
    "# Load the dataset\n",
    "df = pd.read_csv(\"ecommerce_reviews.csv\")\n",
    "\n",
    "# Display first 5 rows\n",
    "df.head()\n"
   ]
  },
  {
   "cell_type": "markdown",
   "id": "4d162295",
   "metadata": {},
   "source": [
    "## Handling Missing Values"
   ]
  },
  {
   "cell_type": "code",
   "execution_count": null,
   "id": "ec95327e",
   "metadata": {},
   "outputs": [],
   "source": [
    "\n",
    "# Checking missing values\n",
    "print(\"Missing Values Before Cleaning:\\n\", df.isnull().sum())\n",
    "\n",
    "# Filling missing values with appropriate defaults\n",
    "df[\"Customer_Name\"].fillna(\"Unknown\", inplace=True)\n",
    "df[\"Review_Text\"].fillna(\"No review provided\", inplace=True)\n",
    "\n",
    "# Checking missing values after cleaning\n",
    "print(\"Missing Values After Cleaning:\\n\", df.isnull().sum())\n"
   ]
  },
  {
   "cell_type": "markdown",
   "id": "23eed3ac",
   "metadata": {},
   "source": [
    "## Removing Duplicate Rows"
   ]
  },
  {
   "cell_type": "code",
   "execution_count": null,
   "id": "4cd9e8dd",
   "metadata": {},
   "outputs": [],
   "source": [
    "\n",
    "# Checking duplicate rows\n",
    "print(\"Duplicate Rows Before:\", df.duplicated().sum())\n",
    "\n",
    "# Removing duplicate rows\n",
    "df.drop_duplicates(inplace=True)\n",
    "\n",
    "# Checking duplicate rows after cleaning\n",
    "print(\"Duplicate Rows After:\", df.duplicated().sum())\n"
   ]
  },
  {
   "cell_type": "markdown",
   "id": "f8dba834",
   "metadata": {},
   "source": [
    "## Fixing Incorrect Ratings"
   ]
  },
  {
   "cell_type": "code",
   "execution_count": null,
   "id": "20972e89",
   "metadata": {},
   "outputs": [],
   "source": [
    "\n",
    "# Fixing incorrect ratings (Valid range: 1 to 5)\n",
    "df[\"Rating\"] = df[\"Rating\"].apply(lambda x: x if 1 <= x <= 5 else 3)  # Default 3 for incorrect values\n",
    "\n",
    "# Checking unique ratings after cleaning\n",
    "df[\"Rating\"].unique()\n"
   ]
  },
  {
   "cell_type": "markdown",
   "id": "5a9de856",
   "metadata": {},
   "source": [
    "## Saving Cleaned Dataset"
   ]
  },
  {
   "cell_type": "code",
   "execution_count": null,
   "id": "ed8d8027",
   "metadata": {},
   "outputs": [],
   "source": [
    "\n",
    "# Saving the cleaned dataset\n",
    "df.to_csv(\"ecommerce_reviews_cleaned.csv\", index=False)\n",
    "\n",
    "print(\"Cleaned dataset saved as 'ecommerce_reviews_cleaned.csv'!\")\n"
   ]
  }
 ],
 "metadata": {},
 "nbformat": 4,
 "nbformat_minor": 5
}